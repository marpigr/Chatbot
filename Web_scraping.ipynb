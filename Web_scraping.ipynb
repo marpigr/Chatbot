{
  "nbformat": 4,
  "nbformat_minor": 0,
  "metadata": {
    "colab": {
      "name": " Web scraping ",
      "provenance": [],
      "collapsed_sections": [],
      "toc_visible": true
    },
    "kernelspec": {
      "name": "python3",
      "display_name": "Python 3"
    }
  },
  "cells": [
    {
      "cell_type": "markdown",
      "metadata": {
        "id": "XRsCY3fa3xAA",
        "colab_type": "text"
      },
      "source": [
        "# Web Scraping of the files"
      ]
    },
    {
      "cell_type": "code",
      "metadata": {
        "id": "EaUC9YetDtDB",
        "colab_type": "code",
        "outputId": "e00c8582-0764-464e-f4b7-fd9e3964628e",
        "colab": {
          "base_uri": "https://localhost:8080/",
          "height": 1000
        }
      },
      "source": [
        "!pip install -q selenium\n",
        "!apt-get update\n",
        "!apt install chromium-chromedriver\n",
        "!cp /usr/lib/chromium-browser/chromedriver /usr/bin"
      ],
      "execution_count": 0,
      "outputs": [
        {
          "output_type": "stream",
          "text": [
            "\u001b[K     |████████████████████████████████| 911kB 3.3MB/s \n",
            "Get:1 https://cloud.r-project.org/bin/linux/ubuntu bionic-cran35/ InRelease [3,626 B]\n",
            "Ign:2 https://developer.download.nvidia.com/compute/cuda/repos/ubuntu1804/x86_64  InRelease\n",
            "Get:3 http://security.ubuntu.com/ubuntu bionic-security InRelease [88.7 kB]\n",
            "Get:4 http://ppa.launchpad.net/graphics-drivers/ppa/ubuntu bionic InRelease [21.3 kB]\n",
            "Ign:5 https://developer.download.nvidia.com/compute/machine-learning/repos/ubuntu1804/x86_64  InRelease\n",
            "Hit:6 https://developer.download.nvidia.com/compute/cuda/repos/ubuntu1804/x86_64  Release\n",
            "Hit:7 https://developer.download.nvidia.com/compute/machine-learning/repos/ubuntu1804/x86_64  Release\n",
            "Hit:8 http://archive.ubuntu.com/ubuntu bionic InRelease\n",
            "Get:9 https://cloud.r-project.org/bin/linux/ubuntu bionic-cran35/ Packages [91.7 kB]\n",
            "Get:10 http://archive.ubuntu.com/ubuntu bionic-updates InRelease [88.7 kB]\n",
            "Get:11 http://ppa.launchpad.net/marutter/c2d4u3.5/ubuntu bionic InRelease [15.4 kB]\n",
            "Get:13 http://archive.ubuntu.com/ubuntu bionic-backports InRelease [74.6 kB]\n",
            "Get:15 http://ppa.launchpad.net/graphics-drivers/ppa/ubuntu bionic/main amd64 Packages [37.4 kB]\n",
            "Get:16 http://security.ubuntu.com/ubuntu bionic-security/universe amd64 Packages [844 kB]\n",
            "Get:17 http://ppa.launchpad.net/marutter/c2d4u3.5/ubuntu bionic/main Sources [1,813 kB]\n",
            "Get:18 http://archive.ubuntu.com/ubuntu bionic-updates/main amd64 Packages [1,205 kB]\n",
            "Get:19 http://security.ubuntu.com/ubuntu bionic-security/restricted amd64 Packages [52.4 kB]\n",
            "Get:20 http://security.ubuntu.com/ubuntu bionic-security/main amd64 Packages [908 kB]\n",
            "Get:21 http://security.ubuntu.com/ubuntu bionic-security/multiverse amd64 Packages [8,505 B]\n",
            "Get:22 http://archive.ubuntu.com/ubuntu bionic-updates/universe amd64 Packages [1,376 kB]\n",
            "Get:23 http://archive.ubuntu.com/ubuntu bionic-updates/restricted amd64 Packages [66.6 kB]\n",
            "Get:24 http://archive.ubuntu.com/ubuntu bionic-updates/multiverse amd64 Packages [19.8 kB]\n",
            "Get:25 http://archive.ubuntu.com/ubuntu bionic-backports/main amd64 Packages [8,286 B]\n",
            "Get:26 http://archive.ubuntu.com/ubuntu bionic-backports/universe amd64 Packages [8,158 B]\n",
            "Get:27 http://ppa.launchpad.net/marutter/c2d4u3.5/ubuntu bionic/main amd64 Packages [875 kB]\n",
            "Fetched 7,606 kB in 3s (2,281 kB/s)\n",
            "Reading package lists... Done\n",
            "Reading package lists... Done\n",
            "Building dependency tree       \n",
            "Reading state information... Done\n",
            "The following additional packages will be installed:\n",
            "  chromium-browser chromium-browser-l10n chromium-codecs-ffmpeg-extra\n",
            "Suggested packages:\n",
            "  webaccounts-chromium-extension unity-chromium-extension adobe-flashplugin\n",
            "The following NEW packages will be installed:\n",
            "  chromium-browser chromium-browser-l10n chromium-chromedriver\n",
            "  chromium-codecs-ffmpeg-extra\n",
            "0 upgraded, 4 newly installed, 0 to remove and 108 not upgraded.\n",
            "Need to get 77.2 MB of archives.\n",
            "After this operation, 264 MB of additional disk space will be used.\n",
            "Get:1 http://archive.ubuntu.com/ubuntu bionic-updates/universe amd64 chromium-codecs-ffmpeg-extra amd64 81.0.4044.122-0ubuntu0.18.04.1 [1,095 kB]\n",
            "Get:2 http://archive.ubuntu.com/ubuntu bionic-updates/universe amd64 chromium-browser amd64 81.0.4044.122-0ubuntu0.18.04.1 [68.8 MB]\n",
            "Get:3 http://archive.ubuntu.com/ubuntu bionic-updates/universe amd64 chromium-browser-l10n all 81.0.4044.122-0ubuntu0.18.04.1 [3,230 kB]\n",
            "Get:4 http://archive.ubuntu.com/ubuntu bionic-updates/universe amd64 chromium-chromedriver amd64 81.0.4044.122-0ubuntu0.18.04.1 [4,070 kB]\n",
            "Fetched 77.2 MB in 4s (21.5 MB/s)\n",
            "Selecting previously unselected package chromium-codecs-ffmpeg-extra.\n",
            "(Reading database ... 144568 files and directories currently installed.)\n",
            "Preparing to unpack .../chromium-codecs-ffmpeg-extra_81.0.4044.122-0ubuntu0.18.04.1_amd64.deb ...\n",
            "Unpacking chromium-codecs-ffmpeg-extra (81.0.4044.122-0ubuntu0.18.04.1) ...\n",
            "Selecting previously unselected package chromium-browser.\n",
            "Preparing to unpack .../chromium-browser_81.0.4044.122-0ubuntu0.18.04.1_amd64.deb ...\n",
            "Unpacking chromium-browser (81.0.4044.122-0ubuntu0.18.04.1) ...\n",
            "Selecting previously unselected package chromium-browser-l10n.\n",
            "Preparing to unpack .../chromium-browser-l10n_81.0.4044.122-0ubuntu0.18.04.1_all.deb ...\n",
            "Unpacking chromium-browser-l10n (81.0.4044.122-0ubuntu0.18.04.1) ...\n",
            "Selecting previously unselected package chromium-chromedriver.\n",
            "Preparing to unpack .../chromium-chromedriver_81.0.4044.122-0ubuntu0.18.04.1_amd64.deb ...\n",
            "Unpacking chromium-chromedriver (81.0.4044.122-0ubuntu0.18.04.1) ...\n",
            "Setting up chromium-codecs-ffmpeg-extra (81.0.4044.122-0ubuntu0.18.04.1) ...\n",
            "Setting up chromium-browser (81.0.4044.122-0ubuntu0.18.04.1) ...\n",
            "update-alternatives: using /usr/bin/chromium-browser to provide /usr/bin/x-www-browser (x-www-browser) in auto mode\n",
            "update-alternatives: using /usr/bin/chromium-browser to provide /usr/bin/gnome-www-browser (gnome-www-browser) in auto mode\n",
            "Setting up chromium-chromedriver (81.0.4044.122-0ubuntu0.18.04.1) ...\n",
            "Setting up chromium-browser-l10n (81.0.4044.122-0ubuntu0.18.04.1) ...\n",
            "Processing triggers for hicolor-icon-theme (0.17-2) ...\n",
            "Processing triggers for mime-support (3.60ubuntu1) ...\n",
            "Processing triggers for man-db (2.8.3-2ubuntu0.1) ...\n",
            "cp: '/usr/lib/chromium-browser/chromedriver' and '/usr/bin/chromedriver' are the same file\n"
          ],
          "name": "stdout"
        }
      ]
    },
    {
      "cell_type": "code",
      "metadata": {
        "id": "BKlZJ1xYDvLs",
        "colab_type": "code",
        "colab": {}
      },
      "source": [
        "# importing libraries\n",
        "\n",
        "import urllib.request\n",
        "import re\n",
        "import requests\n",
        "import time\n",
        "import pandas as pd\n",
        "import numpy as np\n",
        "\n",
        "import sys\n",
        "sys.path.insert(0,'/usr/lib/chromium-browser/chromedriver')\n",
        "\n",
        "#Web scraping\n",
        "from bs4 import BeautifulSoup\n",
        "\n",
        "from selenium import webdriver\n",
        "from selenium.webdriver.chrome.options import Options\n",
        "from selenium.webdriver.common.by import By\n",
        "from selenium.webdriver.support.ui import WebDriverWait\n",
        "from selenium.webdriver.support import expected_conditions as EC\n",
        "from selenium.webdriver.common.keys import Keys\n",
        "\n",
        "chrome_options = Options()\n",
        "chrome_options.add_argument('--headless')\n",
        "chrome_options.add_argument('--no-sandbox')\n",
        "chrome_options.add_argument('--disable-dev-shm-usage')\n",
        "\n",
        "browser = webdriver.Chrome('/usr/lib/chromium-browser/chromedriver', options=chrome_options)"
      ],
      "execution_count": 0,
      "outputs": []
    },
    {
      "cell_type": "markdown",
      "metadata": {
        "colab_type": "text",
        "id": "i3U58G_NWvNU"
      },
      "source": [
        "#I. All movies from an actor"
      ]
    },
    {
      "cell_type": "code",
      "metadata": {
        "colab_type": "code",
        "id": "1ryTM2tNWvNW",
        "colab": {}
      },
      "source": [
        "def get_url_search(nombre):\n",
        "  url_base=\"https://www.imdb.com/find?s=nm&q=\"\n",
        "  url_medio=nombre.lower().replace(' ', '+')\n",
        "  url_fin=\"&ref_=nv_sr_sm\"\n",
        "  url= url_base + url_medio + url_fin\n",
        "  return url"
      ],
      "execution_count": 0,
      "outputs": []
    },
    {
      "cell_type": "code",
      "metadata": {
        "colab_type": "code",
        "outputId": "f16767c4-2cbd-4040-de94-04b4edcfd091",
        "id": "RHsKhi9qWvNi",
        "colab": {
          "base_uri": "https://localhost:8080/",
          "height": 71
        }
      },
      "source": [
        "def Find_all_movies_of_actor(actor):\n",
        "\n",
        "  #URL Actor A\n",
        "  try:\n",
        "    browser.get(get_url_search(actor))\n",
        "  except:\n",
        "    print(\"An error occured.\")\n",
        "  time.sleep(10)\n",
        "\n",
        "  browser.find_element_by_link_text(actor).click()\n",
        "\n",
        "  print(\" URL deL actor A : \" + browser.current_url )\n",
        "\n",
        "\n",
        "  #Lista pelis actor A\n",
        "  #En el bucle known_for guardamos las peliculas, siempre hay 4.\n",
        "  #el bucle tiene formato raro\n",
        "\n",
        "  movie_list=[]\n",
        "  elements=browser.find_element_by_class_name(\"filmo-category-section\")\n",
        "\n",
        "  movies=elements.find_elements_by_tag_name(\"b\")\n",
        "  #print(movies)\n",
        "  #print(len(movies))\n",
        "  for i in range(len(movies)):\n",
        "  #print(movies[i].text)\n",
        "    movie_list.append(movies[i].text)\n",
        "\n",
        "  \n",
        "  print(movie_list)\n",
        "\n",
        "\n",
        "\n",
        "  return(movie_list)\n",
        "\n",
        "movie_list = Find_all_movies_of_actor('Bruce Willis')\n"
      ],
      "execution_count": 0,
      "outputs": [
        {
          "output_type": "stream",
          "text": [
            " URL deL actor A : https://www.imdb.com/name/nm0000246/?ref_=fn_nm_nm_1\n",
            "['McClane', 'Midnight in the Switchgrass', 'Open Source', 'Cosmic Sin', 'Breach', 'Survive the Night', 'Trauma Center', '10 Minutes Gone', 'Between Two Ferns: The Movie', 'Motherless Brooklyn', 'The Orville', 'The Lego Movie 2: The Second Part', 'Glass', 'Air Strike', 'Reprisal', 'Death Wish', 'Acts of Violence', 'First Kill', 'Once Upon a Time in Venice', 'Split', 'Marauders', 'Precious Cargo', 'Extraction', 'Rock the Kasbah', 'Vice', 'The Prince', 'Sin City: A Dame to Kill For', 'Family Guy: The Quest for Stuff', 'RED 2', 'G.I. Joe: Retaliation', 'A Good Day to Die Hard', 'Fire with Fire', 'Looper', 'The Expendables 2', 'Moonrise Kingdom', 'The Cold Light of Day', 'Lay the Favorite', 'Nike: The Black Mamba', 'Catch .44', 'Setup', 'Gorillaz Featuring Mos Def and Bobby Womack: Stylo', 'RED', 'The Expendables', 'Cop Out', 'Surrogates', 'Late Show with David Letterman', 'What Just Happened', 'Assassination of a High School President', 'Live Free or Die Hard Gag Reel', 'Planet Terror', 'Nancy Drew', 'Live Free or Die Hard', 'Perfect Stranger', 'Vanity Fair: Killers Kill, Dead Men Die', 'Grindhouse', \"Hammy's Boomerang Adventure\", 'The Astronaut Farmer', 'Fast Food Nation', \"That '70s Show Special: The Final Goodbye\", 'Over the Hedge', '16 Blocks', 'Lucky Number Slevin', 'Alpha Dog', \"That '70s Show\", 'Sin City', 'Hostage', \"Ocean's Twelve\", 'The Whole Ten Yards', \"Charlie's Angels: Full Throttle\", 'Rugrats Go Wild', 'Tears of the Sun', 'True West', 'Grand Champion', \"Hart's War\", 'Bandits', 'Unbreakable', 'The Kid', 'Friends', 'The Whole Nine Yards', 'The Story of Us', 'The Sixth Sense', 'Breakfast of Champions', 'Ally McBeal', 'Apocalypse', 'The Siege', 'The Fifth Element', 'Armageddon', 'Mercury Rising', 'The Jackal', 'Bruno the Kid', 'Mad About You', 'The Fifth Element', 'Bruno the Kid: The Animated Movie', 'Beavis and Butt-Head Do America', 'Last Man Standing', '12 Monkeys', 'Four Rooms', 'Die Hard with a Vengeance', \"Nobody's Fool\", 'Color of Night', 'North', 'Pulp Fiction', 'Striking Distance', 'Loaded Weapon 1', 'Death Becomes Her', 'The Player', 'The Last Boy Scout', 'Billy Bathgate', 'Hudson Hawk', 'Mortal Thoughts', 'The Bonfire of the Vanities', \"Look Who's Talking Too\", 'Die Hard 2', \"Look Who's Talking\", 'In Country', 'Moonlighting', 'Die Hard', 'Sunset', 'Bruce Willis: Respect Yourself', 'Blind Date', 'The Return of Bruno', \"Seagram's: At a Bar\", 'The Twilight Zone', 'Miami Vice', 'The Verdict', 'Ein Guru kommt', 'The First Deadly Sin']\n"
          ],
          "name": "stdout"
        }
      ]
    },
    {
      "cell_type": "markdown",
      "metadata": {
        "id": "USPluS4qnNwn",
        "colab_type": "text"
      },
      "source": [
        "# II. Which best movies did Bruce Wilis play in?"
      ]
    },
    {
      "cell_type": "code",
      "metadata": {
        "id": "IlHnTWvLQpNq",
        "colab_type": "code",
        "outputId": "c0d74561-6ac0-47f9-cdb0-700282de8346",
        "colab": {
          "base_uri": "https://localhost:8080/",
          "height": 119
        }
      },
      "source": [
        "def Find_best_movies_actor(actor):\n",
        "\n",
        "  # pretransformacion del input- cambiarlo a lowercase, separarlo con +\n",
        "\n",
        "  nombre_separado=actor.lower().replace(' ', '+')\n",
        "\n",
        "  # metodo para obtener la url de busqueda(PRIMERA URL) el segun el nombre del autor\n",
        "  def get_url_search(nombre_separado):\n",
        "    url_base=\"https://www.imdb.com/find?s=nm&q=\"\n",
        "    url_medio=nombre_separado\n",
        "    url_fin=\"&ref_=nv_sr_sm\"\n",
        "    url= url_base + url_medio + url_fin\n",
        "    return url\n",
        "\n",
        "  #nos metemos en la url\n",
        "\n",
        "  try:\n",
        "    browser.get(get_url_search(nombre_separado))\n",
        "  except:\n",
        "    print(\"An error occured.\")\n",
        "  time.sleep(10)\n",
        "\n",
        "  print(\" URL de la búsqueda : \" + browser.current_url )\n",
        "\n",
        "  #Con selenium, accedemos a la pagina del actor clickando en el resultado de la busqueda \n",
        "\n",
        "  browser.find_element_by_link_text(actor).click()\n",
        "\n",
        "  print(\" URL del actor : \" + browser.current_url)\n",
        "\n",
        "\n",
        "  #En el bucle known_for guardamos las peliculas, siempre hay 4.\n",
        "  #el bucle tiene formato raro\n",
        "\n",
        "  best_movies=[]\n",
        "\n",
        "  for i in range(4):\n",
        "    xpath = \"//*[@id=\\\"knownfor\\\"]/div[\" + str(i+1) + \"]/div[2]/a\"\n",
        "    #print(xpath)\n",
        "    elements=browser.find_element_by_xpath(xpath)\n",
        "    #print(elements.text)\n",
        "    best_movies.append(elements.text)\n",
        "\n",
        "  for i in best_movies:\n",
        "    print(i)\n",
        "\n",
        "  return (best_movies)\n",
        "\n",
        "best_movies = Find_best_movies_actor('Keanu Reeves')"
      ],
      "execution_count": 0,
      "outputs": [
        {
          "output_type": "stream",
          "text": [
            " URL de la búsqueda : https://www.imdb.com/find?s=nm&q=keanu+reeves&ref_=nv_sr_sm\n",
            " URL del actor : https://www.imdb.com/name/nm0000206/?ref_=fn_nm_nm_1\n",
            "The Matrix\n",
            "Speed\n",
            "Point Break\n",
            "The Matrix Reloaded\n"
          ],
          "name": "stdout"
        }
      ]
    },
    {
      "cell_type": "markdown",
      "metadata": {
        "id": "3vak0paxuqD7",
        "colab_type": "text"
      },
      "source": [
        "# III. When was released Die Hard?"
      ]
    },
    {
      "cell_type": "code",
      "metadata": {
        "id": "-G4yPrhcRjrb",
        "colab_type": "code",
        "outputId": "aa851ebc-4255-4b88-b30d-d37b8201514d",
        "colab": {
          "base_uri": "https://localhost:8080/",
          "height": 68
        }
      },
      "source": [
        "def Find_year_from_movie(movie):\n",
        "\n",
        "\n",
        "  # pretransformacion del input- cambiarlo a lowercase, separarlo con +\n",
        "\n",
        "  peli_separado=movie.lower().replace(' ', '%20')\n",
        "\n",
        "  def get_url_movie(peli_separado):\n",
        "    url_base=\"https://www.imdb.com/find?q=\"\n",
        "    url_medio=peli_separado\n",
        "    url_fin=\"&s=tt&ttype=ft&exact=true&ref_=fn_tt_ex\"\n",
        "    url= url_base + url_medio + url_fin\n",
        "    return url\n",
        "\n",
        "  #busqueda de la pelicula (tipo pelicula y exact match)\n",
        "\n",
        "  try:\n",
        "    browser.get(get_url_movie(peli_separado))\n",
        "  except:\n",
        "    print(\"An error occured.\")\n",
        "  time.sleep(10)\n",
        "\n",
        "  print(\" URL de la búsqueda : \" + browser.current_url )\n",
        "\n",
        "  #clickamos el primer resultado\n",
        "\n",
        "  browser.find_element_by_link_text(movie).click()\n",
        "\n",
        "  #metodo alternativo: xpath\n",
        "  #xpath=\"/html/body/div[3]/div/div[2]/div[3]/div[1]/div/div[2]/table/tbody/tr/td[2]/text()\"\n",
        "  #elements=browser.find_element_by_xpath(xpath)\n",
        "\n",
        "  #cogemos el año\n",
        "\n",
        "  print(\" URL de la peli : \" + browser.current_url )\n",
        "\n",
        "\n",
        "  year=browser.find_element_by_id(\"titleYear\").text\n",
        "  print (year)\n",
        "\n",
        "\n",
        "  return(year)\n",
        "\n",
        "year = Find_year_from_movie('Die Hard')"
      ],
      "execution_count": 0,
      "outputs": [
        {
          "output_type": "stream",
          "text": [
            " URL de la búsqueda : https://www.imdb.com/find?q=die%20hard&s=tt&ttype=ft&exact=true&ref_=fn_tt_ex\n",
            " URL de la peli : https://www.imdb.com/title/tt0095016/?ref_=fn_ft_tt_1\n",
            "(1988)\n"
          ],
          "name": "stdout"
        }
      ]
    },
    {
      "cell_type": "markdown",
      "metadata": {
        "id": "6P_6mMq39YLT",
        "colab_type": "text"
      },
      "source": [
        "#IV.In what movie did Alan Rickman and Bruce Willis play together?"
      ]
    },
    {
      "cell_type": "code",
      "metadata": {
        "id": "6fx3JTFNT-Us",
        "colab_type": "code",
        "colab": {}
      },
      "source": [
        "def get_url_search(nombre):\n",
        "  url_base=\"https://www.imdb.com/find?s=nm&q=\"\n",
        "  url_medio=nombre.lower().replace(' ', '+')\n",
        "  url_fin=\"&ref_=nv_sr_sm\"\n",
        "  url= url_base + url_medio + url_fin\n",
        "  return url"
      ],
      "execution_count": 0,
      "outputs": []
    },
    {
      "cell_type": "code",
      "metadata": {
        "id": "QLjyas0UDYQD",
        "colab_type": "code",
        "colab": {}
      },
      "source": [
        "### contrastar listas a y b \n",
        "\n",
        "def common(a,b): \n",
        "    c = [value for value in a if value in b] \n",
        "    return c\n"
      ],
      "execution_count": 0,
      "outputs": []
    },
    {
      "cell_type": "code",
      "metadata": {
        "id": "IBJCJEoDTiMA",
        "colab_type": "code",
        "outputId": "d32d428e-5b12-4ed6-c3d6-1641a1a2d089",
        "colab": {
          "base_uri": "https://localhost:8080/",
          "height": 68
        }
      },
      "source": [
        "def Find_common_movie_of_actors(actor_a, actor_b):\n",
        "\n",
        "  #URL Actor A\n",
        "  try:\n",
        "    browser.get(get_url_search(actor_a))\n",
        "  except:\n",
        "    print(\"An error occured.\")\n",
        "  time.sleep(10)\n",
        "\n",
        "  browser.find_element_by_link_text(actor_a).click()\n",
        "\n",
        "  print(\" URL deL actor A : \" + browser.current_url )\n",
        "\n",
        "\n",
        "  #Lista pelis actor A\n",
        "  #En el bucle known_for guardamos las peliculas, siempre hay 4.\n",
        "  #el bucle tiene formato raro\n",
        "\n",
        "  movie_list_a=[]\n",
        "  elements=browser.find_element_by_class_name(\"filmo-category-section\")\n",
        "\n",
        "  movies=elements.find_elements_by_tag_name(\"b\")\n",
        "  #print(movies)\n",
        "  #print(len(movies))\n",
        "  for i in range(len(movies)):\n",
        "  #print(movies[i].text)\n",
        "    movie_list_a.append(movies[i].text)\n",
        "\n",
        "  \n",
        "  #for i in movie_list_a:\n",
        "    #print(i)\n",
        "\n",
        "\n",
        "\n",
        "\n",
        "  #URL Actor B\n",
        "  try:\n",
        "    browser.get(get_url_search(actor_b))\n",
        "  except:\n",
        "    print(\"An error occured.\")\n",
        "  time.sleep(10)\n",
        "\n",
        "  browser.find_element_by_link_text(actor_b).click()\n",
        "\n",
        "\n",
        "  print(\" URL del actor B : \" + browser.current_url )\n",
        "\n",
        "\n",
        "\n",
        "\n",
        "  #Lista pelis actor B\n",
        "  #En el bucle known_for guardamos las peliculas, siempre hay 4.\n",
        "  #el bucle tiene formato raro\n",
        "\n",
        "  movie_list_b=[]\n",
        "  elements=browser.find_element_by_class_name(\"filmo-category-section\")\n",
        "\n",
        "  movies=elements.find_elements_by_tag_name(\"b\")\n",
        "  #print(movies)\n",
        "  #print(len(movies))\n",
        "  for i in range(len(movies)):\n",
        "  #print(movies[i].text)\n",
        "    movie_list_b.append(movies[i].text)\n",
        "\n",
        "  \n",
        "  #for i in movie_list_b:\n",
        "    #print(i)\n",
        "\n",
        "  ### contrastar listas a y b \n",
        "  common_movie= common(movie_list_a, movie_list_b)\n",
        "  print(common_movie)\n",
        "  return(common_movie)\n",
        "\n",
        "common_movie = Find_common_movie_of_actors('Alan Rickman', 'Bruce Willis')"
      ],
      "execution_count": 0,
      "outputs": [
        {
          "output_type": "stream",
          "text": [
            " URL deL actor A : https://www.imdb.com/name/nm0000614/?ref_=fn_nm_nm_1\n",
            " URL del actor B : https://www.imdb.com/name/nm0000246/?ref_=fn_nm_nm_1\n",
            "['Die Hard']\n"
          ],
          "name": "stdout"
        }
      ]
    },
    {
      "cell_type": "markdown",
      "metadata": {
        "id": "TRGmfN5t9aaG",
        "colab_type": "text"
      },
      "source": [
        "#V. What is the best action movie?"
      ]
    },
    {
      "cell_type": "code",
      "metadata": {
        "id": "mEFL99WPYTFH",
        "colab_type": "code",
        "colab": {}
      },
      "source": [
        "def get_url_search_genre(category):\n",
        "  url_base=\"https://www.imdb.com/search/title/?genres=\"\n",
        "  url_medio=category.lower()\n",
        "  url_fin=\"&sort=user_rating,desc&title_type=feature&num_votes=25000,&pf_rd_m=A2FGELUUNOQJNL&pf_rd_p=5aab685f-35eb-40f3-95f7-c53f09d542c3&pf_rd_r=66F966JHMXHEEF7A5JKZ&pf_rd_s=right-6&pf_rd_t=15506&pf_rd_i=top&ref_=chttp_gnr_1\"\n",
        "  url= url_base + url_medio + url_fin\n",
        "  return url"
      ],
      "execution_count": 0,
      "outputs": []
    },
    {
      "cell_type": "code",
      "metadata": {
        "id": "EDzbXpnWXv_L",
        "colab_type": "code",
        "outputId": "1e864909-d7e8-4a92-d707-73e44fb26ae6",
        "colab": {
          "base_uri": "https://localhost:8080/",
          "height": 71
        }
      },
      "source": [
        "def Find_best_movie_by_genre(genre):\n",
        "\n",
        "  try:\n",
        "    browser.get(get_url_search_genre(genre))\n",
        "  except:\n",
        "    print(\"An error occured.\")\n",
        "  time.sleep(10)\n",
        "\n",
        "  print(\" URL de mejores pelis de la categoría: \" + browser.current_url )\n",
        "\n",
        "  xpath = \"//*[@id=\\\"main\\\"]/div/div[3]/div/div[1]/div[3]/h3/a\"\n",
        "\n",
        "  best_movie_genre=browser.find_element_by_xpath(xpath).text\n",
        "  print(best_movie_genre)\n",
        "  return(best_movie_genre)\n",
        "\n",
        "best_movie_genre= Find_best_movie_by_genre(\"animation\")"
      ],
      "execution_count": 0,
      "outputs": [
        {
          "output_type": "stream",
          "text": [
            " URL de mejores pelis de la categoría: https://www.imdb.com/search/title/?genres=animation&sort=user_rating,desc&title_type=feature&num_votes=25000,&pf_rd_m=A2FGELUUNOQJNL&pf_rd_p=5aab685f-35eb-40f3-95f7-c53f09d542c3&pf_rd_r=66F966JHMXHEEF7A5JKZ&pf_rd_s=right-6&pf_rd_t=15506&pf_rd_i=top&ref_=chttp_gnr_1\n",
            "Spirited Away\n"
          ],
          "name": "stdout"
        }
      ]
    }
  ]
}